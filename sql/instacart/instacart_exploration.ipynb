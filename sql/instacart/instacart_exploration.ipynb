{
 "cells": [
  {
   "cell_type": "code",
   "execution_count": 2,
   "id": "ad101f2d",
   "metadata": {},
   "outputs": [
    {
     "name": "stdout",
     "output_type": "stream",
     "text": [
      "--- aisles ---\n",
      "  column_name column_type null   key default extra\n",
      "0    aisle_id      BIGINT  YES  None    None  None\n",
      "1       aisle     VARCHAR  YES  None    None  None\n",
      "--- departments ---\n",
      "     column_name column_type null   key default extra\n",
      "0  department_id      BIGINT  YES  None    None  None\n",
      "1     department     VARCHAR  YES  None    None  None\n",
      "--- order_products_prior ---\n",
      "         column_name column_type null   key default extra\n",
      "0           order_id      BIGINT  YES  None    None  None\n",
      "1         product_id      BIGINT  YES  None    None  None\n",
      "2  add_to_cart_order      BIGINT  YES  None    None  None\n",
      "3          reordered      BIGINT  YES  None    None  None\n",
      "--- order_products_train ---\n",
      "         column_name column_type null   key default extra\n",
      "0           order_id      BIGINT  YES  None    None  None\n",
      "1         product_id      BIGINT  YES  None    None  None\n",
      "2  add_to_cart_order      BIGINT  YES  None    None  None\n",
      "3          reordered      BIGINT  YES  None    None  None\n",
      "--- orders ---\n",
      "              column_name column_type null   key default extra\n",
      "0                order_id      BIGINT  YES  None    None  None\n",
      "1                 user_id      BIGINT  YES  None    None  None\n",
      "2                eval_set     VARCHAR  YES  None    None  None\n",
      "3            order_number      BIGINT  YES  None    None  None\n",
      "4               order_dow      BIGINT  YES  None    None  None\n",
      "5       order_hour_of_day     VARCHAR  YES  None    None  None\n",
      "6  days_since_prior_order      DOUBLE  YES  None    None  None\n",
      "--- products ---\n",
      "     column_name column_type null   key default extra\n",
      "0     product_id      BIGINT  YES  None    None  None\n",
      "1   product_name     VARCHAR  YES  None    None  None\n",
      "2       aisle_id      BIGINT  YES  None    None  None\n",
      "3  department_id      BIGINT  YES  None    None  None\n"
     ]
    }
   ],
   "source": [
    "# exploration_orders.ipynb\n",
    "\n",
    "import duckdb\n",
    "import pandas as pd\n",
    "import matplotlib.pyplot as plt\n",
    "\n",
    "# Connect to existing DuckDB database\n",
    "con = duckdb.connect(\"instacart.duckdb\")\n",
    "\n",
    "# Preview order structure\n",
    "df_orders = con.execute(\"SELECT * FROM orders LIMIT 10\").fetchdf()\n",
    "df_orders\n",
    "tables = con.execute(\"SHOW TABLES\").fetchdf()[\"name\"].tolist()\n",
    "for table in tables:\n",
    "    print(f\"--- {table} ---\")\n",
    "    print(con.execute(f\"DESCRIBE {table}\").fetchdf())\n",
    "\n"
   ]
  },
  {
   "cell_type": "code",
   "execution_count": 4,
   "id": "e303e702",
   "metadata": {},
   "outputs": [
    {
     "name": "stdout",
     "output_type": "stream",
     "text": [
      "             product_name  purchases\n",
      "0                  Banana      18726\n",
      "1  Bag of Organic Bananas      15480\n",
      "2    Organic Strawberries      10894\n",
      "3    Organic Baby Spinach       9784\n",
      "4             Large Lemon       8135\n",
      "5         Organic Avocado       7409\n",
      "6    Organic Hass Avocado       7293\n",
      "7            Strawberries       6494\n",
      "8                   Limes       6033\n",
      "9     Organic Raspberries       5546\n"
     ]
    }
   ],
   "source": [
    "\n",
    "# 1. Top Selling Products\n",
    "df_user_orders2 = con.execute(\"\"\"\n",
    "    SELECT \n",
    "    p.product_name, COUNT(*) as purchases\n",
    "    FROM products p\n",
    "    JOIN order_products_train t ON t.product_id = p.product_id\n",
    "    GROUP BY p.product_name\n",
    "    ORDER BY 2 DESC\n",
    "    LIMIT 10\n",
    ";\"\"\").fetchdf()\n",
    "print(df_user_orders2)\n",
    "\n",
    "\n"
   ]
  },
  {
   "cell_type": "code",
   "execution_count": 9,
   "id": "41722827",
   "metadata": {},
   "outputs": [
    {
     "name": "stdout",
     "output_type": "stream",
     "text": [
      "     aisle_id                       aisle  count_times_aisle_used\n",
      "0          83            fresh vegetables                  150609\n",
      "1          24                fresh fruits                  150473\n",
      "2         123  packaged vegetables fruits                   78493\n",
      "3         120                      yogurt                   55240\n",
      "4          21             packaged cheese                   41699\n",
      "..        ...                         ...                     ...\n",
      "129        10            kitchen supplies                     448\n",
      "130       102         baby bath body care                     328\n",
      "131        82            baby accessories                     306\n",
      "132       113                frozen juice                     294\n",
      "133       132                      beauty                     287\n",
      "\n",
      "[134 rows x 3 columns]\n"
     ]
    }
   ],
   "source": [
    "# 2. Most Popular Aisles\n",
    "df_user_orders = con.execute(\"\"\"\n",
    "    SELECT a.aisle_id, a.aisle, COUNT(*) as count_times_aisle_used\n",
    "    FROM aisles a\n",
    "    JOIN products p on a.aisle_id = p.aisle_id\n",
    "    JOIN order_products_train t on p.product_id = t.product_id\n",
    "    GROUP BY a.aisle_id, a.aisle\n",
    "    ORDER BY 3 DeSC\n",
    "\"\"\").fetchdf()\n",
    "print(df_user_orders)"
   ]
  },
  {
   "cell_type": "code",
   "execution_count": 15,
   "id": "cb0a0693",
   "metadata": {},
   "outputs": [
    {
     "name": "stdout",
     "output_type": "stream",
     "text": [
      "   order_dow order_day_name  total_orders\n",
      "0          0         Sunday        600905\n",
      "1          1         Monday        587478\n",
      "2          2        Tuesday        467260\n",
      "3          5         Friday        453368\n",
      "4          6       Saturday        448761\n",
      "5          3      Wednesday        436972\n",
      "6          4       Thursday        426339\n"
     ]
    }
   ],
   "source": [
    "# 3. Which Day of the Week Do People Order Most?\n",
    "df_user_orders = con.execute(\"\"\"\n",
    "    SELECT \n",
    "        order_dow, \n",
    "        CASE WHEN order_dow = 0 THEN 'Sunday'\n",
    "            WHEN order_dow = 1 THEN 'Monday'\n",
    "            WHEN order_dow = 2 THEN 'Tuesday'\n",
    "            WHEN order_dow = 3 THEN 'Wednesday'\n",
    "            WHEN order_dow = 4 THEN 'Thursday'\n",
    "            WHEN order_dow = 5 THEN 'Friday'\n",
    "            WHEN order_dow = 6 THEN 'Saturday'\n",
    "            END AS order_day_name,\n",
    "        COUNT(*) AS total_orders\n",
    "    FROM orders\n",
    "    GROUP by order_dow\n",
    "    ORDER BY total_orders DESC\n",
    "\"\"\").fetchdf()\n",
    "print(df_user_orders)"
   ]
  },
  {
   "cell_type": "code",
   "execution_count": 17,
   "id": "38047789",
   "metadata": {},
   "outputs": [
    {
     "name": "stdout",
     "output_type": "stream",
     "text": [
      "   order_hour_of_day  total_orders\n",
      "0                 10        288418\n",
      "1                 11        284728\n",
      "2                 15        283639\n",
      "3                 14        283042\n",
      "4                 13        277999\n",
      "5                 12        272841\n",
      "6                 16        272553\n",
      "7                 09        257812\n",
      "8                 17        228795\n",
      "9                 18        182912\n",
      "10                08        178201\n",
      "11                19        140569\n",
      "12                20        104292\n",
      "13                07         91868\n",
      "14                21         78109\n",
      "15                22         61468\n",
      "16                23         40043\n",
      "17                06         30529\n",
      "18                00         22758\n",
      "19                01         12398\n",
      "20                05          9569\n",
      "21                02          7539\n",
      "22                04          5527\n",
      "23                03          5474\n"
     ]
    }
   ],
   "source": [
    "# 4. What Time of Day Do People Order?\n",
    "df_user_orders = con.execute(\"\"\"\n",
    "    SELECT order_hour_of_day, COUNT(*) AS total_orders\n",
    "    FROM orders\n",
    "    GROUP by order_hour_of_day\n",
    "    ORDER BY 2 DESC\n",
    "\"\"\").fetchdf()\n",
    "print(df_user_orders)"
   ]
  },
  {
   "cell_type": "code",
   "execution_count": 23,
   "id": "baad70fa",
   "metadata": {},
   "outputs": [
    {
     "name": "stdout",
     "output_type": "stream",
     "text": [
      "         department  department_product_orders_count\n",
      "0           produce                           409087\n",
      "1        dairy eggs                           217051\n",
      "2            snacks                           118862\n",
      "3         beverages                           114046\n",
      "4            frozen                           100426\n",
      "5            pantry                            81242\n",
      "6            bakery                            48394\n",
      "7      canned goods                            46799\n",
      "8              deli                            44291\n",
      "9   dry goods pasta                            38713\n",
      "10        household                            35986\n",
      "11     meat seafood                            30307\n",
      "12        breakfast                            29500\n",
      "13    personal care                            21570\n",
      "14           babies                            14941\n",
      "15    international                            11902\n",
      "16          missing                             8251\n",
      "17          alcohol                             5598\n",
      "18             pets                             4497\n",
      "19            other                             1795\n",
      "20             bulk                             1359\n"
     ]
    }
   ],
   "source": [
    "# 5. Top Departments by Volume\n",
    "df_user_orders = con.execute(\"\"\"\n",
    "    SELECT d.department, COUNT(*) as department_product_orders_count\n",
    "    FROM order_products_train t\n",
    "    JOIN products p ON p.product_id = t.product_id\n",
    "    JOIN departments d ON p.department_id = d.department_id\n",
    "    GROUP BY 1\n",
    "    ORDER BY 2 DESC\n",
    "\"\"\").fetchdf()\n",
    "print(df_user_orders)\n",
    "\n"
   ]
  }
 ],
 "metadata": {
  "kernelspec": {
   "display_name": "Python 3",
   "language": "python",
   "name": "python3"
  },
  "language_info": {
   "codemirror_mode": {
    "name": "ipython",
    "version": 3
   },
   "file_extension": ".py",
   "mimetype": "text/x-python",
   "name": "python",
   "nbconvert_exporter": "python",
   "pygments_lexer": "ipython3",
   "version": "3.13.5"
  }
 },
 "nbformat": 4,
 "nbformat_minor": 5
}
