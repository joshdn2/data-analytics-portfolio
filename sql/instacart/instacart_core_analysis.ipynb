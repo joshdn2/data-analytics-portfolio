{
 "cells": [
  {
   "cell_type": "markdown",
   "id": "fff20f6e",
   "metadata": {},
   "source": [
    "# Core Question Process\n",
    "What are the overall trends in sales?\n",
    " --> This starts very broad, so we need to iteratively clarify"
   ]
  },
  {
   "cell_type": "markdown",
   "id": "37b46269",
   "metadata": {},
   "source": [
    "### Part 1\n",
    "READ Framework for framing the project before querying anything\n",
    "\n",
    "R - Representative Data: \n",
    "    do we have the right data to answer this? \n",
    "We don't have order dates or revenue so we can't see change over calendar periods or true sales volume beyond quantities. We have day of the week, reoder information, even time of day so we can see trends in those areas via order/product counts. \n",
    "\n",
    "E - Exec questions: \n",
    "    transformation from vague to business-relevant\n",
    "Metric clarifications: what are we measuring? \n",
    "    Before: What are the overall trends in sales?\n",
    "    After: How did total order volume and reorder rate change?\n",
    "Dimension: how do we slice it? \n",
    "    Department, time of day, day of the week.\n",
    "    We can remove time of day for now. \n",
    "Deliverable: for whom, in what format? \n",
    "    Marketing and operations management would likely find insights useful. \n",
    "Clarified question: How do total order volume and reorder rate change across departments and between weekdays and weekends? .\n",
    "\n",
    "A - Analytical Framework: \n",
    "    Time series - time of day and day of week\n",
    "    Segmentation by department\n",
    "\n",
    "D - Data best practices: \n",
    "    Check for nulls, odd ranges"
   ]
  },
  {
   "cell_type": "code",
   "execution_count": null,
   "id": "f98bd856",
   "metadata": {},
   "outputs": [
    {
     "name": "stdout",
     "output_type": "stream",
     "text": [
      "   null_id  null_user  null_eval  null_num  null_dow  null_hour  min_hour  \\\n",
      "0      0.0        0.0        0.0       0.0       0.0        0.0         0   \n",
      "\n",
      "   max_hour  \n",
      "0        23  \n"
     ]
    }
   ],
   "source": [
    "\n",
    "import duckdb\n",
    "import pandas as pd\n",
    "import matplotlib.pyplot as plt\n",
    "con = duckdb.connect(\"instacart.duckdb\")\n",
    "\n",
    "df_user_orders = con.execute(\"\"\"\n",
    "    SELECT \n",
    "    SUM(order_id IS NULL) AS null_id,\n",
    "    SUM(user_id IS NULL) AS null_user,\n",
    "    SUM(eval_set IS NULL) AS null_eval,\n",
    "    SUM(order_number IS NULL) AS null_num,\n",
    "    SUM(order_dow IS NULL) AS null_dow,\n",
    "    SUM(order_hour_of_day IS NULL) AS null_hour,\n",
    "    -- SUM(days_since_prior_order IS NULL) AS null_days_since, -> not counting because this represents the number of first time orders\n",
    "    MIN(CAST(order_hour_of_day AS INT)) AS min_hour,\n",
    "    MAX(CAST(order_hour_of_day AS INT)) AS max_hour\n",
    "    FROM orders;\n",
    "\"\"\").fetchdf()\n",
    "print(df_user_orders)\n",
    "\n"
   ]
  },
  {
   "cell_type": "markdown",
   "id": "c2755bee",
   "metadata": {},
   "source": [
    "Data is well-cleaned, mostly IDs and integers. "
   ]
  },
  {
   "cell_type": "markdown",
   "id": "01a544ff",
   "metadata": {},
   "source": [
    "### Part 2: Mapping goals to data features\n",
    "\n",
    "Stakeholder Goals  | what KPIs and dimensions matter the most? \n",
    "Columns and Coverage  | what data do we have available and how can I use it? \n",
    "Aggregates and Anomalies  | the high level metrics, outliers, and unexpected patterns \n",
    "Notable Segments  | slice by category, time, or other key dimensions to surface early insights "
   ]
  }
 ],
 "metadata": {
  "kernelspec": {
   "display_name": "Python 3",
   "language": "python",
   "name": "python3"
  },
  "language_info": {
   "codemirror_mode": {
    "name": "ipython",
    "version": 3
   },
   "file_extension": ".py",
   "mimetype": "text/x-python",
   "name": "python",
   "nbconvert_exporter": "python",
   "pygments_lexer": "ipython3",
   "version": "3.13.5"
  }
 },
 "nbformat": 4,
 "nbformat_minor": 5
}
