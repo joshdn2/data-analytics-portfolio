{
 "cells": [
  {
   "cell_type": "code",
   "execution_count": null,
   "id": "a791a26c",
   "metadata": {},
   "outputs": [],
   "source": [
    "# Core question of departments - which departments are driving more volume and when? \n",
    "# Total number of products ordered per department is a good proxy for order volume, because this data doesn't have order or item price. \n",
    "# For question dimensions, we can slice, per department, by weekdays vs weekends, time of day, reorder frequency, etc.\n",
    "# We can see which departments our most frequent shoppers are returning to most often\n",
    "\n",
    "# We can clarify our question: which departments are driving most volume and when"
   ]
  }
 ],
 "metadata": {
  "language_info": {
   "name": "python"
  }
 },
 "nbformat": 4,
 "nbformat_minor": 5
}
