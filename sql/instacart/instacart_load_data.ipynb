{
 "cells": [
  {
   "cell_type": "code",
   "execution_count": 2,
   "id": "0b1ca333",
   "metadata": {},
   "outputs": [
    {
     "data": {
      "text/html": [
       "<div>\n",
       "<style scoped>\n",
       "    .dataframe tbody tr th:only-of-type {\n",
       "        vertical-align: middle;\n",
       "    }\n",
       "\n",
       "    .dataframe tbody tr th {\n",
       "        vertical-align: top;\n",
       "    }\n",
       "\n",
       "    .dataframe thead th {\n",
       "        text-align: right;\n",
       "    }\n",
       "</style>\n",
       "<table border=\"1\" class=\"dataframe\">\n",
       "  <thead>\n",
       "    <tr style=\"text-align: right;\">\n",
       "      <th></th>\n",
       "      <th>name</th>\n",
       "    </tr>\n",
       "  </thead>\n",
       "  <tbody>\n",
       "    <tr>\n",
       "      <th>0</th>\n",
       "      <td>aisles</td>\n",
       "    </tr>\n",
       "    <tr>\n",
       "      <th>1</th>\n",
       "      <td>departments</td>\n",
       "    </tr>\n",
       "    <tr>\n",
       "      <th>2</th>\n",
       "      <td>order_products_prior</td>\n",
       "    </tr>\n",
       "    <tr>\n",
       "      <th>3</th>\n",
       "      <td>order_products_train</td>\n",
       "    </tr>\n",
       "    <tr>\n",
       "      <th>4</th>\n",
       "      <td>orders</td>\n",
       "    </tr>\n",
       "    <tr>\n",
       "      <th>5</th>\n",
       "      <td>products</td>\n",
       "    </tr>\n",
       "  </tbody>\n",
       "</table>\n",
       "</div>"
      ],
      "text/plain": [
       "                   name\n",
       "0                aisles\n",
       "1           departments\n",
       "2  order_products_prior\n",
       "3  order_products_train\n",
       "4                orders\n",
       "5              products"
      ]
     },
     "execution_count": 2,
     "metadata": {},
     "output_type": "execute_result"
    }
   ],
   "source": [
    "# instacart_load_data.ipynb\n",
    "\n",
    "import duckdb\n",
    "\n",
    "# Connect to DuckDB database file\n",
    "con = duckdb.connect(\"instacart.duckdb\")\n",
    "\n",
    "# Load CSVs into permanent DuckDB tables\n",
    "con.execute(\"\"\"\n",
    "    CREATE OR REPLACE TABLE aisles AS\n",
    "    SELECT * FROM read_csv_auto('aisles.csv');\n",
    "\n",
    "    CREATE OR REPLACE TABLE departments AS\n",
    "    SELECT * FROM read_csv_auto('departments.csv');\n",
    "\n",
    "    CREATE OR REPLACE TABLE products AS\n",
    "    SELECT * FROM read_csv_auto('products.csv');\n",
    "\n",
    "    CREATE OR REPLACE TABLE orders AS\n",
    "    SELECT * FROM read_csv_auto('orders.csv');\n",
    "\n",
    "    CREATE OR REPLACE TABLE order_products_train AS\n",
    "    SELECT * FROM read_csv_auto('order_products__train.csv');\n",
    "            \n",
    "    CREATE OR REPLACE TABLE order_products_prior AS\n",
    "    SELECT * FROM read_csv_auto('order_products__prior.csv');\n",
    "\"\"\")\n",
    "\n",
    "# Confirm tables loaded\n",
    "con.execute(\"SHOW TABLES\").fetchdf()\n"
   ]
  }
 ],
 "metadata": {
  "kernelspec": {
   "display_name": "Python 3",
   "language": "python",
   "name": "python3"
  },
  "language_info": {
   "codemirror_mode": {
    "name": "ipython",
    "version": 3
   },
   "file_extension": ".py",
   "mimetype": "text/x-python",
   "name": "python",
   "nbconvert_exporter": "python",
   "pygments_lexer": "ipython3",
   "version": "3.13.5"
  }
 },
 "nbformat": 4,
 "nbformat_minor": 5
}
